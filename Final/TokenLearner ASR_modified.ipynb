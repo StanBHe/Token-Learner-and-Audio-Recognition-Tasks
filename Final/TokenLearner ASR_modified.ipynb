{
 "cells": [
  {
   "cell_type": "code",
   "execution_count": 1,
   "id": "4dd40133",
   "metadata": {},
   "outputs": [
    {
     "name": "stderr",
     "output_type": "stream",
     "text": [
      "C:\\Users\\Stan\\anaconda3\\lib\\site-packages\\tensorflow_addons\\utils\\tfa_eol_msg.py:23: UserWarning: \n",
      "\n",
      "TensorFlow Addons (TFA) has ended development and introduction of new features.\n",
      "TFA has entered a minimal maintenance and release mode until a planned end of life in May 2024.\n",
      "Please modify downstream libraries to take dependencies from other repositories in our TensorFlow community (e.g. Keras, Keras-CV, and Keras-NLP). \n",
      "\n",
      "For more information see: https://github.com/tensorflow/addons/issues/2807 \n",
      "\n",
      "  warnings.warn(\n"
     ]
    },
    {
     "name": "stdout",
     "output_type": "stream",
     "text": [
      "Num GPUs Available:  1\n"
     ]
    }
   ],
   "source": [
    "import os\n",
    "import pathlib\n",
    "\n",
    "import tensorflow as tf\n",
    "\n",
    "from tensorflow import keras\n",
    "from tensorflow.keras import layers\n",
    "import tensorflow_addons as tfa\n",
    "\n",
    "from datetime import datetime\n",
    "import matplotlib.pyplot as plt\n",
    "import numpy as np\n",
    "\n",
    "import math\n",
    "!set XLA_FLAGS=--xla_gpu_cuda_data_dir=\"C:/Program Files/NVIDIA GPU Computing Toolkit/CUDA/v11.8\"\n",
    "print(\"Num GPUs Available: \", len(tf.config.list_physical_devices('GPU')))"
   ]
  },
  {
   "cell_type": "code",
   "execution_count": 2,
   "id": "b6beb0af",
   "metadata": {},
   "outputs": [],
   "source": [
    "# DATA\n",
    "BATCH_SIZE = 64\n",
    "AUTO = tf.data.AUTOTUNE\n",
    "#INPUT_SHAPE = (32, 32, 3)\n",
    "INPUT_SHAPE = (124, 129, 1)\n",
    "NUM_CLASSES = 8\n",
    "\n",
    "# OPTIMIZER\n",
    "LEARNING_RATE = 1e-3\n",
    "WEIGHT_DECAY = 1e-4\n",
    "\n",
    "# TRAINING\n",
    "EPOCHS = 25\n",
    "\n",
    "# AUGMENTATION\n",
    "IMAGE_SIZE = 32  # We will resize input images to this size.\n",
    "PATCH_SIZE = 6  # Size of the patches to be extracted from the input images.\n",
    "NUM_PATCHES = (IMAGE_SIZE // PATCH_SIZE) ** 2\n",
    "\n",
    "# ViT ARCHITECTURE\n",
    "LAYER_NORM_EPS = 1e-6\n",
    "PROJECTION_DIM = 256\n",
    "NUM_HEADS = 8\n",
    "NUM_LAYERS = 16\n",
    "MLP_UNITS = [\n",
    "    PROJECTION_DIM * 2,\n",
    "    PROJECTION_DIM,\n",
    "]\n",
    "\n",
    "# TOKENLEARNER\n",
    "NUM_TOKENS = 9"
   ]
  },
  {
   "cell_type": "markdown",
   "id": "6c87a3f0",
   "metadata": {},
   "source": [
    "# Data Processing"
   ]
  },
  {
   "cell_type": "code",
   "execution_count": 3,
   "id": "c61a9629",
   "metadata": {},
   "outputs": [],
   "source": [
    "DATASET_PATH = 'data/mini_speech_commands'\n",
    "\n",
    "data_dir = pathlib.Path(DATASET_PATH)\n",
    "if not data_dir.exists():\n",
    "  tf.keras.utils.get_file(\n",
    "      'mini_speech_commands.zip',\n",
    "      origin=\"http://storage.googleapis.com/download.tensorflow.org/data/mini_speech_commands.zip\",\n",
    "      extract=True,\n",
    "      cache_dir='.', cache_subdir='data')"
   ]
  },
  {
   "cell_type": "code",
   "execution_count": 4,
   "id": "21c62c0f",
   "metadata": {},
   "outputs": [
    {
     "name": "stdout",
     "output_type": "stream",
     "text": [
      "Commands: ['down' 'go' 'left' 'no' 'right' 'stop' 'up' 'yes']\n"
     ]
    }
   ],
   "source": [
    "commands = np.array(tf.io.gfile.listdir(str(data_dir)))\n",
    "commands = commands[(commands != 'README.md') & (commands != '.DS_Store')]\n",
    "print('Commands:', commands)"
   ]
  },
  {
   "cell_type": "code",
   "execution_count": 5,
   "id": "dbabc585",
   "metadata": {},
   "outputs": [
    {
     "name": "stdout",
     "output_type": "stream",
     "text": [
      "Found 8000 files belonging to 8 classes.\n",
      "Using 6400 files for training.\n",
      "Using 1600 files for validation.\n",
      "\n",
      "label names: ['down' 'go' 'left' 'no' 'right' 'stop' 'up' 'yes']\n"
     ]
    }
   ],
   "source": [
    "train_ds, val_ds = tf.keras.utils.audio_dataset_from_directory(\n",
    "    directory=data_dir,\n",
    "    batch_size=BATCH_SIZE,\n",
    "    validation_split=0.2,\n",
    "    seed=0,\n",
    "    output_sequence_length=16000,\n",
    "    subset='both')\n",
    "\n",
    "label_names = np.array(train_ds.class_names)\n",
    "print()\n",
    "print(\"label names:\", label_names)"
   ]
  },
  {
   "cell_type": "code",
   "execution_count": 6,
   "id": "01ae3fcc",
   "metadata": {},
   "outputs": [],
   "source": [
    "def squeeze(audio, labels):\n",
    "  audio = tf.squeeze(audio, axis=-1)\n",
    "  return audio, labels\n",
    "\n",
    "train_ds = train_ds.map(squeeze, tf.data.AUTOTUNE)\n",
    "val_ds = val_ds.map(squeeze, tf.data.AUTOTUNE)"
   ]
  },
  {
   "cell_type": "code",
   "execution_count": 7,
   "id": "3a00aa16",
   "metadata": {},
   "outputs": [],
   "source": [
    "test_ds = val_ds.shard(num_shards=2, index=0)\n",
    "val_ds = val_ds.shard(num_shards=2, index=1)"
   ]
  },
  {
   "cell_type": "code",
   "execution_count": 8,
   "id": "f2e9fba2",
   "metadata": {},
   "outputs": [
    {
     "name": "stdout",
     "output_type": "stream",
     "text": [
      "(64, 16000)\n",
      "(64,)\n"
     ]
    }
   ],
   "source": [
    "for example_audio, example_labels in train_ds.take(1):  \n",
    "  print(example_audio.shape)\n",
    "  print(example_labels.shape)"
   ]
  },
  {
   "cell_type": "code",
   "execution_count": 9,
   "id": "59f9f580",
   "metadata": {},
   "outputs": [],
   "source": [
    "def get_spectrogram(waveform):\n",
    "  # Convert the waveform to a spectrogram via a STFT.\n",
    "  spectrogram = tf.signal.stft(\n",
    "      waveform, frame_length=255, frame_step=128)\n",
    "  # Obtain the magnitude of the STFT.\n",
    "  spectrogram = tf.abs(spectrogram)\n",
    "  # Add a `channels` dimension, so that the spectrogram can be used\n",
    "  # as image-like input data with convolution layers (which expect\n",
    "  # shape (`batch_size`, `height`, `width`, `channels`).\n",
    "  spectrogram = spectrogram[..., tf.newaxis]\n",
    "  return spectrogram\n",
    "\n",
    "def make_spec_ds(ds):\n",
    "  return ds.map(\n",
    "      map_func=lambda audio,label: (get_spectrogram(audio), label),\n",
    "      num_parallel_calls=tf.data.AUTOTUNE)"
   ]
  },
  {
   "cell_type": "code",
   "execution_count": 10,
   "id": "efd82c40",
   "metadata": {},
   "outputs": [],
   "source": [
    "train_spectrogram_ds = make_spec_ds(train_ds)\n",
    "val_spectrogram_ds = make_spec_ds(val_ds)\n",
    "test_spectrogram_ds = make_spec_ds(test_ds)"
   ]
  },
  {
   "cell_type": "code",
   "execution_count": 11,
   "id": "f2f973b8",
   "metadata": {},
   "outputs": [],
   "source": [
    "train_spectrogram_ds = train_spectrogram_ds.cache().shuffle(10000).prefetch(tf.data.AUTOTUNE)\n",
    "val_spectrogram_ds = val_spectrogram_ds.cache().prefetch(tf.data.AUTOTUNE)\n",
    "test_spectrogram_ds = test_spectrogram_ds.cache().prefetch(tf.data.AUTOTUNE)"
   ]
  },
  {
   "cell_type": "code",
   "execution_count": 12,
   "id": "decfa30a",
   "metadata": {},
   "outputs": [],
   "source": [
    "norm_layer = layers.Normalization()\n",
    "norm_layer.adapt(data=train_spectrogram_ds.map(map_func=lambda spec, label: spec))\n",
    "\n",
    "data_augmentation = keras.Sequential(\n",
    "    [\n",
    "        layers.Resizing(IMAGE_SIZE, IMAGE_SIZE),\n",
    "        norm_layer,\n",
    "    ],\n",
    "    name=\"data_augmentation\",\n",
    ")"
   ]
  },
  {
   "cell_type": "markdown",
   "id": "0ed612d9",
   "metadata": {},
   "source": [
    "# Token Learner"
   ]
  },
  {
   "cell_type": "code",
   "execution_count": 13,
   "id": "098fe17f",
   "metadata": {},
   "outputs": [],
   "source": [
    "def position_embedding(\n",
    "    projected_patches, num_patches=NUM_PATCHES, projection_dim=PROJECTION_DIM\n",
    "):\n",
    "    # Build the positions.\n",
    "    positions = tf.range(start=0, limit=num_patches, delta=1)\n",
    "\n",
    "    # Encode the positions with an Embedding layer.\n",
    "    encoded_positions = layers.Embedding(\n",
    "        input_dim=num_patches, output_dim=projection_dim\n",
    "    )(positions)\n",
    "\n",
    "    # Add encoded positions to the projected patches.\n",
    "    return projected_patches + encoded_positions"
   ]
  },
  {
   "cell_type": "code",
   "execution_count": 14,
   "id": "97735f81",
   "metadata": {},
   "outputs": [],
   "source": [
    "def mlp(x, dropout_rate, hidden_units):\n",
    "    # Iterate over the hidden units and\n",
    "    # add Dense => Dropout.\n",
    "    for units in hidden_units:\n",
    "        x = layers.Dense(units, activation=tf.nn.gelu)(x)\n",
    "        x = layers.Dropout(dropout_rate)(x)\n",
    "    return x"
   ]
  },
  {
   "cell_type": "code",
   "execution_count": 15,
   "id": "71e99aa3",
   "metadata": {},
   "outputs": [],
   "source": [
    "def token_learner(inputs, number_of_tokens=NUM_TOKENS):\n",
    "    # Layer normalize the inputs.\n",
    "    x = layers.LayerNormalization(epsilon=LAYER_NORM_EPS)(inputs)  # (B, H, W, C)\n",
    "\n",
    "    # Applying Conv2D => Reshape => Permute\n",
    "    # The reshape and permute is done to help with the next steps of\n",
    "    # multiplication and Global Average Pooling.\n",
    "    attention_maps = keras.Sequential(\n",
    "        [\n",
    "            # 3 layers of conv with gelu activation as suggested\n",
    "            # in the paper.\n",
    "            layers.Conv2D(\n",
    "                filters=number_of_tokens,\n",
    "                kernel_size=(3, 3),\n",
    "                activation=tf.nn.gelu,\n",
    "                padding=\"same\",\n",
    "                use_bias=False,\n",
    "            ),\n",
    "            layers.Conv2D(\n",
    "                filters=number_of_tokens,\n",
    "                kernel_size=(3, 3),\n",
    "                activation=tf.nn.gelu,\n",
    "                padding=\"same\",\n",
    "                use_bias=False,\n",
    "            ),\n",
    "            layers.Conv2D(\n",
    "                filters=number_of_tokens,\n",
    "                kernel_size=(3, 3),\n",
    "                activation=tf.nn.gelu,\n",
    "                padding=\"same\",\n",
    "                use_bias=False,\n",
    "            ),\n",
    "            # This conv layer will generate the attention maps\n",
    "            layers.Conv2D(\n",
    "                filters=number_of_tokens,\n",
    "                kernel_size=(3, 3),\n",
    "                activation=\"sigmoid\",  # Note sigmoid for [0, 1] output\n",
    "                padding=\"same\",\n",
    "                use_bias=False,\n",
    "            ),\n",
    "            # Reshape and Permute\n",
    "            layers.Reshape((-1, number_of_tokens)),  # (B, H*W, num_of_tokens)\n",
    "            layers.Permute((2, 1)),\n",
    "        ]\n",
    "    )(\n",
    "        x\n",
    "    )  # (B, num_of_tokens, H*W)\n",
    "\n",
    "    # Reshape the input to align it with the output of the conv block.\n",
    "    num_filters = inputs.shape[-1]\n",
    "    inputs = layers.Reshape((1, -1, num_filters))(inputs)  # inputs == (B, 1, H*W, C)\n",
    "\n",
    "    # Element-Wise multiplication of the attention maps and the inputs\n",
    "    attended_inputs = (\n",
    "        attention_maps[..., tf.newaxis] * inputs\n",
    "    )  # (B, num_tokens, H*W, C)\n",
    "\n",
    "    # Global average pooling the element wise multiplication result.\n",
    "    outputs = tf.reduce_mean(attended_inputs, axis=2)  # (B, num_tokens, C)\n",
    "    return outputs"
   ]
  },
  {
   "cell_type": "code",
   "execution_count": 16,
   "id": "0bd17ca6",
   "metadata": {},
   "outputs": [],
   "source": [
    "def transformer(encoded_patches):\n",
    "    # Layer normalization 1.\n",
    "    x1 = layers.LayerNormalization(epsilon=LAYER_NORM_EPS)(encoded_patches)\n",
    "\n",
    "    # Multi Head Self Attention layer 1.\n",
    "    attention_output = layers.MultiHeadAttention(\n",
    "        num_heads=NUM_HEADS, key_dim=PROJECTION_DIM, dropout=0.1\n",
    "    )(x1, x1)\n",
    "\n",
    "    # Skip connection 1.\n",
    "    x2 = layers.Add()([attention_output, encoded_patches])\n",
    "\n",
    "    # Layer normalization 2.\n",
    "    x3 = layers.LayerNormalization(epsilon=LAYER_NORM_EPS)(x2)\n",
    "\n",
    "    # MLP layer 1.\n",
    "    x4 = mlp(x3, hidden_units=MLP_UNITS, dropout_rate=0.1)\n",
    "\n",
    "    # Skip connection 2.\n",
    "    encoded_patches = layers.Add()([x4, x2])\n",
    "    return encoded_patches"
   ]
  },
  {
   "cell_type": "code",
   "execution_count": 17,
   "id": "143d4949",
   "metadata": {},
   "outputs": [],
   "source": [
    "def bottleneck_block(x, expand=64, squeeze=16):\n",
    "  m = layers.Conv2D(expand, (1,1))(x)\n",
    "  m = layers.BatchNormalization()(m)\n",
    "  m = layers.Activation('relu6')(m)\n",
    "  m = layers.DepthwiseConv2D((3,3))(m)\n",
    "  m = layers.BatchNormalization()(m)\n",
    "  m = layers.Activation('relu6')(m)\n",
    "  m = layers.Conv2D(squeeze)(m)\n",
    "  m = layers.BatchNormalization()(m)\n",
    "  return layers.Add()([m, x])"
   ]
  },
  {
   "cell_type": "code",
   "execution_count": 18,
   "id": "872bb23a",
   "metadata": {},
   "outputs": [],
   "source": [
    "def create_vit_classifier(use_token_learner=True, token_learner_units=NUM_TOKENS):\n",
    "    inputs = layers.Input(shape=INPUT_SHAPE)  # (B, H, W, C)\n",
    "    \n",
    "    # Augment data.\n",
    "    augmented = data_augmentation(inputs)\n",
    "\n",
    "    #mbconv = bottleneck_block(augmented)\n",
    "    \n",
    "    # Create patches and project the pathces.\n",
    "    projected_patches = layers.Conv2D(\n",
    "        filters=PROJECTION_DIM,\n",
    "        kernel_size=(PATCH_SIZE, PATCH_SIZE),\n",
    "        strides=(PATCH_SIZE, PATCH_SIZE),\n",
    "        padding=\"VALID\",\n",
    "    )(augmented)\n",
    "    \n",
    "    if use_token_learner:\n",
    "            projected_patches = token_learner(\n",
    "                projected_patches, token_learner_units\n",
    "            )\n",
    "            _, hh, c = projected_patches.shape\n",
    "            h = int(math.sqrt(hh))\n",
    "            projected_patches = layers.Reshape((h, h, c))(\n",
    "                projected_patches)\n",
    "            _, h, w, c = projected_patches.shape\n",
    "            print(h,w,c)\n",
    "            projected_patches = layers.Reshape((h * w, c))(\n",
    "                projected_patches\n",
    "            )  # (B, number_patches, projection_dim)\n",
    "\n",
    "            # Add positional embeddings to the projected patches.\n",
    "            encoded_patches = position_embedding(\n",
    "                projected_patches, num_patches = NUM_TOKENS\n",
    "            )  # (B, number_patches, projection_dim)\n",
    "            encoded_patches = layers.Dropout(0.1)(encoded_patches)\n",
    "    else:\n",
    "        _, h, w, c = projected_patches.shape\n",
    "        print(h,w,c)\n",
    "        projected_patches = layers.Reshape((h * w, c))(\n",
    "            projected_patches\n",
    "        )  # (B, number_patches, projection_dim)\n",
    "\n",
    "        # Add positional embeddings to the projected patches.\n",
    "        encoded_patches = position_embedding(\n",
    "            projected_patches\n",
    "        )  # (B, number_patches, projection_dim)\n",
    "        encoded_patches = layers.Dropout(0.1)(encoded_patches)\n",
    "\n",
    "    # Iterate over the number of layers and stack up blocks of\n",
    "    # Transformer.\n",
    "    for i in range(NUM_LAYERS):\n",
    "        # Add a Transformer block.\n",
    "        encoded_patches = transformer(encoded_patches)\n",
    "\n",
    "    # Layer normalization and Global average pooling.\n",
    "    representation = layers.LayerNormalization(epsilon=LAYER_NORM_EPS)(encoded_patches)\n",
    "    representation = layers.GlobalAvgPool1D()(representation)\n",
    "\n",
    "    # Classify outputs.\n",
    "    outputs = layers.Dense(NUM_CLASSES, activation=\"softmax\")(representation)\n",
    "\n",
    "    # Create the Keras model.\n",
    "    model = keras.Model(inputs=inputs, outputs=outputs)\n",
    "    return model"
   ]
  },
  {
   "cell_type": "code",
   "execution_count": 19,
   "id": "8e388bd8",
   "metadata": {},
   "outputs": [],
   "source": [
    "def run_experiment(model):\n",
    "    # Initialize the AdamW optimizer.\n",
    "    optimizer = tfa.optimizers.AdamW(\n",
    "        learning_rate=LEARNING_RATE, weight_decay=WEIGHT_DECAY\n",
    "    )\n",
    "\n",
    "    # Compile the model with the optimizer, loss function\n",
    "    # and the metrics.\n",
    "    model.compile(\n",
    "        optimizer=optimizer,\n",
    "        loss=\"sparse_categorical_crossentropy\",\n",
    "        metrics=[\n",
    "            keras.metrics.SparseCategoricalAccuracy(name=\"accuracy\"),\n",
    "            keras.metrics.SparseTopKCategoricalAccuracy(5, name=\"top-5-accuracy\"),\n",
    "        ],\n",
    "    )\n",
    "\n",
    "    # Define callbacks\n",
    "    checkpoint_filepath = \"./tmp/checkpoint\"\n",
    "    checkpoint_callback = keras.callbacks.ModelCheckpoint(\n",
    "        checkpoint_filepath,\n",
    "        monitor=\"val_accuracy\",\n",
    "        save_best_only=True,\n",
    "        save_weights_only=True,\n",
    "    )\n",
    "\n",
    "    # Train the model.\n",
    "    _ = model.fit(\n",
    "        train_spectrogram_ds,\n",
    "        epochs=EPOCHS,\n",
    "        validation_data=val_spectrogram_ds,\n",
    "        callbacks=[checkpoint_callback],\n",
    "    )\n",
    "\n",
    "    model.load_weights(checkpoint_filepath)\n",
    "    _, accuracy, top_5_accuracy = model.evaluate(test_spectrogram_ds)\n",
    "    print(f\"Test accuracy: {round(accuracy * 100, 2)}%\")\n",
    "    print(f\"Test top 5 accuracy: {round(top_5_accuracy * 100, 2)}%\")\n"
   ]
  },
  {
   "cell_type": "code",
   "execution_count": 20,
   "id": "274f07a4",
   "metadata": {},
   "outputs": [
    {
     "name": "stdout",
     "output_type": "stream",
     "text": [
      "3 3 256\n",
      "Epoch 1/25\n",
      "100/100 [==============================] - 51s 341ms/step - loss: 2.7125 - accuracy: 0.1280 - top-5-accuracy: 0.6373 - val_loss: 2.1120 - val_accuracy: 0.1172 - val_top-5-accuracy: 0.6732\n",
      "Epoch 2/25\n",
      "100/100 [==============================] - 32s 324ms/step - loss: 2.0858 - accuracy: 0.1484 - top-5-accuracy: 0.6642 - val_loss: 2.0885 - val_accuracy: 0.1536 - val_top-5-accuracy: 0.6589\n",
      "Epoch 3/25\n",
      "100/100 [==============================] - 30s 300ms/step - loss: 2.0974 - accuracy: 0.1409 - top-5-accuracy: 0.6553 - val_loss: 2.0904 - val_accuracy: 0.1667 - val_top-5-accuracy: 0.6432\n",
      "Epoch 4/25\n",
      "100/100 [==============================] - 29s 286ms/step - loss: 2.0898 - accuracy: 0.1536 - top-5-accuracy: 0.6642 - val_loss: 2.1212 - val_accuracy: 0.1745 - val_top-5-accuracy: 0.6380\n",
      "Epoch 5/25\n",
      "100/100 [==============================] - 29s 289ms/step - loss: 2.0714 - accuracy: 0.1705 - top-5-accuracy: 0.6911 - val_loss: 2.0473 - val_accuracy: 0.1823 - val_top-5-accuracy: 0.7031\n",
      "Epoch 6/25\n",
      "100/100 [==============================] - 28s 284ms/step - loss: 2.0556 - accuracy: 0.1877 - top-5-accuracy: 0.7047 - val_loss: 2.0472 - val_accuracy: 0.1862 - val_top-5-accuracy: 0.7005\n",
      "Epoch 7/25\n",
      "100/100 [==============================] - 29s 294ms/step - loss: 2.0269 - accuracy: 0.1906 - top-5-accuracy: 0.7248 - val_loss: 1.9771 - val_accuracy: 0.2083 - val_top-5-accuracy: 0.7826\n",
      "Epoch 8/25\n",
      "100/100 [==============================] - 30s 301ms/step - loss: 1.9691 - accuracy: 0.2222 - top-5-accuracy: 0.7566 - val_loss: 1.9285 - val_accuracy: 0.2357 - val_top-5-accuracy: 0.7734\n",
      "Epoch 9/25\n",
      "100/100 [==============================] - 30s 301ms/step - loss: 1.9106 - accuracy: 0.2456 - top-5-accuracy: 0.7908 - val_loss: 1.9023 - val_accuracy: 0.2643 - val_top-5-accuracy: 0.7930\n",
      "Epoch 10/25\n",
      "100/100 [==============================] - 30s 297ms/step - loss: 1.8704 - accuracy: 0.2611 - top-5-accuracy: 0.8091 - val_loss: 1.8621 - val_accuracy: 0.2878 - val_top-5-accuracy: 0.8151\n",
      "Epoch 11/25\n",
      "100/100 [==============================] - 30s 299ms/step - loss: 1.8369 - accuracy: 0.2716 - top-5-accuracy: 0.8252 - val_loss: 1.8190 - val_accuracy: 0.2956 - val_top-5-accuracy: 0.8320\n",
      "Epoch 12/25\n",
      "100/100 [==============================] - 28s 279ms/step - loss: 1.8516 - accuracy: 0.2683 - top-5-accuracy: 0.8177 - val_loss: 1.8462 - val_accuracy: 0.2669 - val_top-5-accuracy: 0.7917\n",
      "Epoch 13/25\n",
      "100/100 [==============================] - 28s 279ms/step - loss: 1.8213 - accuracy: 0.2809 - top-5-accuracy: 0.8273 - val_loss: 1.8643 - val_accuracy: 0.2695 - val_top-5-accuracy: 0.8112\n",
      "Epoch 14/25\n",
      "100/100 [==============================] - 30s 295ms/step - loss: 1.8182 - accuracy: 0.2894 - top-5-accuracy: 0.8353 - val_loss: 1.7970 - val_accuracy: 0.3177 - val_top-5-accuracy: 0.8398\n",
      "Epoch 15/25\n",
      "100/100 [==============================] - 30s 299ms/step - loss: 1.7547 - accuracy: 0.3100 - top-5-accuracy: 0.8502 - val_loss: 1.7350 - val_accuracy: 0.3242 - val_top-5-accuracy: 0.8737\n",
      "Epoch 16/25\n",
      "100/100 [==============================] - 30s 299ms/step - loss: 1.7213 - accuracy: 0.3247 - top-5-accuracy: 0.8622 - val_loss: 1.7154 - val_accuracy: 0.3529 - val_top-5-accuracy: 0.8737\n",
      "Epoch 17/25\n",
      "100/100 [==============================] - 28s 277ms/step - loss: 1.7606 - accuracy: 0.3223 - top-5-accuracy: 0.8453 - val_loss: 1.8054 - val_accuracy: 0.3216 - val_top-5-accuracy: 0.8620\n",
      "Epoch 18/25\n",
      "100/100 [==============================] - 26s 255ms/step - loss: 1.7658 - accuracy: 0.3175 - top-5-accuracy: 0.8478 - val_loss: 1.8360 - val_accuracy: 0.2734 - val_top-5-accuracy: 0.8255\n",
      "Epoch 19/25\n",
      "100/100 [==============================] - 26s 263ms/step - loss: 1.7036 - accuracy: 0.3350 - top-5-accuracy: 0.8716 - val_loss: 1.7313 - val_accuracy: 0.3398 - val_top-5-accuracy: 0.8711\n",
      "Epoch 20/25\n",
      "100/100 [==============================] - 26s 259ms/step - loss: 1.6685 - accuracy: 0.3464 - top-5-accuracy: 0.8773 - val_loss: 1.6680 - val_accuracy: 0.3477 - val_top-5-accuracy: 0.8854\n",
      "Epoch 21/25\n",
      "100/100 [==============================] - 25s 251ms/step - loss: 1.6299 - accuracy: 0.3642 - top-5-accuracy: 0.8906 - val_loss: 1.7378 - val_accuracy: 0.3424 - val_top-5-accuracy: 0.8646\n",
      "Epoch 22/25\n",
      "100/100 [==============================] - 27s 268ms/step - loss: 1.6106 - accuracy: 0.3672 - top-5-accuracy: 0.8984 - val_loss: 1.6492 - val_accuracy: 0.3607 - val_top-5-accuracy: 0.8867\n",
      "Epoch 23/25\n",
      "100/100 [==============================] - 27s 269ms/step - loss: 1.5904 - accuracy: 0.3823 - top-5-accuracy: 0.8942 - val_loss: 1.6273 - val_accuracy: 0.3763 - val_top-5-accuracy: 0.8763\n",
      "Epoch 24/25\n",
      "100/100 [==============================] - 27s 268ms/step - loss: 1.5344 - accuracy: 0.4064 - top-5-accuracy: 0.9023 - val_loss: 1.5239 - val_accuracy: 0.4297 - val_top-5-accuracy: 0.9128\n",
      "Epoch 25/25\n",
      "100/100 [==============================] - 25s 250ms/step - loss: 1.4539 - accuracy: 0.4375 - top-5-accuracy: 0.9212 - val_loss: 1.4559 - val_accuracy: 0.4206 - val_top-5-accuracy: 0.9245\n",
      "13/13 [==============================] - 1s 80ms/step - loss: 1.4749 - accuracy: 0.4195 - top-5-accuracy: 0.9243\n",
      "Test accuracy: 41.95%\n",
      "Test top 5 accuracy: 92.43%\n"
     ]
    }
   ],
   "source": [
    "vit_token_learner = create_vit_classifier()\n",
    "run_experiment(vit_token_learner)"
   ]
  },
  {
   "cell_type": "code",
   "execution_count": 21,
   "id": "1a25a9c6",
   "metadata": {},
   "outputs": [
    {
     "name": "stdout",
     "output_type": "stream",
     "text": [
      "5 5 256\n",
      "Epoch 1/25\n",
      "100/100 [==============================] - 60s 458ms/step - loss: 2.6551 - accuracy: 0.1373 - top-5-accuracy: 0.6470 - val_loss: 2.0893 - val_accuracy: 0.1419 - val_top-5-accuracy: 0.6732\n",
      "Epoch 2/25\n",
      "100/100 [==============================] - 44s 442ms/step - loss: 2.0852 - accuracy: 0.1464 - top-5-accuracy: 0.6750 - val_loss: 2.0681 - val_accuracy: 0.1654 - val_top-5-accuracy: 0.6979\n",
      "Epoch 3/25\n",
      "100/100 [==============================] - 44s 442ms/step - loss: 2.0677 - accuracy: 0.1698 - top-5-accuracy: 0.6925 - val_loss: 2.0836 - val_accuracy: 0.1875 - val_top-5-accuracy: 0.6888\n",
      "Epoch 4/25\n",
      "100/100 [==============================] - 42s 423ms/step - loss: 2.0903 - accuracy: 0.1595 - top-5-accuracy: 0.6783 - val_loss: 2.0883 - val_accuracy: 0.1810 - val_top-5-accuracy: 0.6914\n",
      "Epoch 5/25\n",
      "100/100 [==============================] - 42s 422ms/step - loss: 2.1295 - accuracy: 0.1497 - top-5-accuracy: 0.6581 - val_loss: 2.2217 - val_accuracy: 0.1471 - val_top-5-accuracy: 0.6250\n",
      "Epoch 6/25\n",
      "100/100 [==============================] - 46s 459ms/step - loss: 2.0641 - accuracy: 0.1630 - top-5-accuracy: 0.6970 - val_loss: 2.0684 - val_accuracy: 0.1771 - val_top-5-accuracy: 0.7109\n",
      "Epoch 7/25\n",
      "100/100 [==============================] - 50s 501ms/step - loss: 2.0054 - accuracy: 0.2139 - top-5-accuracy: 0.7453 - val_loss: 1.9918 - val_accuracy: 0.2122 - val_top-5-accuracy: 0.7708\n",
      "Epoch 8/25\n",
      "100/100 [==============================] - 47s 470ms/step - loss: 1.9747 - accuracy: 0.2253 - top-5-accuracy: 0.7752 - val_loss: 2.0061 - val_accuracy: 0.2005 - val_top-5-accuracy: 0.7747\n",
      "Epoch 9/25\n",
      "100/100 [==============================] - 47s 469ms/step - loss: 1.9364 - accuracy: 0.2391 - top-5-accuracy: 0.7972 - val_loss: 1.9119 - val_accuracy: 0.2695 - val_top-5-accuracy: 0.8190\n",
      "Epoch 10/25\n",
      "100/100 [==============================] - 44s 444ms/step - loss: 1.9360 - accuracy: 0.2392 - top-5-accuracy: 0.7948 - val_loss: 1.9778 - val_accuracy: 0.2148 - val_top-5-accuracy: 0.7760\n",
      "Epoch 11/25\n",
      "100/100 [==============================] - 44s 437ms/step - loss: 1.9018 - accuracy: 0.2589 - top-5-accuracy: 0.8114 - val_loss: 1.8988 - val_accuracy: 0.2656 - val_top-5-accuracy: 0.8268\n",
      "Epoch 12/25\n",
      "100/100 [==============================] - 43s 430ms/step - loss: 1.8795 - accuracy: 0.2648 - top-5-accuracy: 0.8186 - val_loss: 1.9118 - val_accuracy: 0.2500 - val_top-5-accuracy: 0.8151\n",
      "Epoch 13/25\n",
      "100/100 [==============================] - 43s 429ms/step - loss: 1.8730 - accuracy: 0.2723 - top-5-accuracy: 0.8244 - val_loss: 1.8941 - val_accuracy: 0.2656 - val_top-5-accuracy: 0.8229\n",
      "Epoch 14/25\n",
      "100/100 [==============================] - 45s 450ms/step - loss: 1.8510 - accuracy: 0.2861 - top-5-accuracy: 0.8281 - val_loss: 1.8792 - val_accuracy: 0.2656 - val_top-5-accuracy: 0.8138\n",
      "Epoch 15/25\n",
      "100/100 [==============================] - 48s 484ms/step - loss: 1.8171 - accuracy: 0.2934 - top-5-accuracy: 0.8484 - val_loss: 1.7732 - val_accuracy: 0.3229 - val_top-5-accuracy: 0.8568\n",
      "Epoch 16/25\n",
      "100/100 [==============================] - 332s 3s/step - loss: 1.7885 - accuracy: 0.3100 - top-5-accuracy: 0.8539 - val_loss: 1.8169 - val_accuracy: 0.3255 - val_top-5-accuracy: 0.8333\n",
      "Epoch 17/25\n",
      "100/100 [==============================] - 552s 6s/step - loss: 1.7632 - accuracy: 0.3308 - top-5-accuracy: 0.8561 - val_loss: 1.7224 - val_accuracy: 0.3516 - val_top-5-accuracy: 0.8659\n",
      "Epoch 18/25\n",
      "100/100 [==============================] - 532s 5s/step - loss: 1.7485 - accuracy: 0.3367 - top-5-accuracy: 0.8647 - val_loss: 1.7923 - val_accuracy: 0.3294 - val_top-5-accuracy: 0.8555\n",
      "Epoch 19/25\n",
      "100/100 [==============================] - 506s 5s/step - loss: 1.7409 - accuracy: 0.3373 - top-5-accuracy: 0.8686 - val_loss: 1.7318 - val_accuracy: 0.3333 - val_top-5-accuracy: 0.8581\n",
      "Epoch 20/25\n",
      "100/100 [==============================] - 526s 5s/step - loss: 1.7075 - accuracy: 0.3481 - top-5-accuracy: 0.8788 - val_loss: 1.7041 - val_accuracy: 0.3763 - val_top-5-accuracy: 0.8646\n",
      "Epoch 21/25\n",
      "100/100 [==============================] - 506s 5s/step - loss: 1.6799 - accuracy: 0.3595 - top-5-accuracy: 0.8834 - val_loss: 1.6831 - val_accuracy: 0.3893 - val_top-5-accuracy: 0.8659\n",
      "Epoch 22/25\n",
      "100/100 [==============================] - 481s 5s/step - loss: 1.6804 - accuracy: 0.3636 - top-5-accuracy: 0.8847 - val_loss: 1.7595 - val_accuracy: 0.3464 - val_top-5-accuracy: 0.8659\n",
      "Epoch 23/25\n",
      "100/100 [==============================] - 484s 5s/step - loss: 1.6424 - accuracy: 0.3772 - top-5-accuracy: 0.8944 - val_loss: 1.6210 - val_accuracy: 0.4141 - val_top-5-accuracy: 0.8919\n",
      "Epoch 24/25\n",
      "100/100 [==============================] - 576s 6s/step - loss: 1.6133 - accuracy: 0.3916 - top-5-accuracy: 0.8997 - val_loss: 1.6231 - val_accuracy: 0.3958 - val_top-5-accuracy: 0.8867\n",
      "Epoch 25/25\n",
      "100/100 [==============================] - 573s 6s/step - loss: 1.6412 - accuracy: 0.3880 - top-5-accuracy: 0.8908 - val_loss: 1.5751 - val_accuracy: 0.4023 - val_top-5-accuracy: 0.9128\n",
      "13/13 [==============================] - 19s 1s/step - loss: 1.6292 - accuracy: 0.3930 - top-5-accuracy: 0.8978\n",
      "Test accuracy: 39.3%\n",
      "Test top 5 accuracy: 89.78%\n"
     ]
    }
   ],
   "source": [
    "vit_token_learner = create_vit_classifier(use_token_learner=False)\n",
    "run_experiment(vit_token_learner)"
   ]
  },
  {
   "cell_type": "code",
   "execution_count": 22,
   "id": "af662061",
   "metadata": {},
   "outputs": [
    {
     "name": "stdout",
     "output_type": "stream",
     "text": [
      "TensorFlow: 2.10.1\n",
      "3 3 256\n",
      "WARNING:tensorflow:From C:\\Users\\Stan\\anaconda3\\lib\\site-packages\\tensorflow\\python\\profiler\\internal\\flops_registry.py:138: tensor_shape_from_node_def_name (from tensorflow.python.framework.graph_util_impl) is deprecated and will be removed in a future version.\n",
      "Instructions for updating:\n",
      "Use `tf.compat.v1.graph_util.tensor_shape_from_node_def_name`\n",
      "Flops: 39,342,882\n"
     ]
    }
   ],
   "source": [
    "import tensorflow as tf\n",
    "from tensorflow.python.profiler.model_analyzer import profile\n",
    "from tensorflow.python.profiler.option_builder import ProfileOptionBuilder\n",
    "print('TensorFlow:', tf.__version__)\n",
    "\n",
    "model = create_vit_classifier(use_token_learner=True)\n",
    "\n",
    "forward_pass = tf.function(\n",
    "    model.call,\n",
    "    input_signature=[tf.TensorSpec(shape=(1,) + model.input_shape[1:])])\n",
    "\n",
    "graph_info = profile(forward_pass.get_concrete_function().graph,\n",
    "                        options=ProfileOptionBuilder.float_operation())\n",
    "\n",
    "# The //2 is necessary since `profile` counts multiply and accumulate\n",
    "# as two flops, here we report the total number of multiply accumulate ops\n",
    "flops = graph_info.total_float_ops // 2\n",
    "print('Flops: {:,}'.format(flops))"
   ]
  },
  {
   "cell_type": "code",
   "execution_count": null,
   "id": "f430569a",
   "metadata": {},
   "outputs": [],
   "source": []
  }
 ],
 "metadata": {
  "kernelspec": {
   "display_name": "Python 3 (ipykernel)",
   "language": "python",
   "name": "python3"
  },
  "language_info": {
   "codemirror_mode": {
    "name": "ipython",
    "version": 3
   },
   "file_extension": ".py",
   "mimetype": "text/x-python",
   "name": "python",
   "nbconvert_exporter": "python",
   "pygments_lexer": "ipython3",
   "version": "3.9.13"
  }
 },
 "nbformat": 4,
 "nbformat_minor": 5
}
